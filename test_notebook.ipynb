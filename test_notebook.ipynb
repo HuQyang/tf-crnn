{
 "cells": [
  {
   "cell_type": "code",
   "execution_count": 1,
   "metadata": {},
   "outputs": [
    {
     "data": {
      "text/plain": [
       "'/notebooks/tf-crnn'"
      ]
     },
     "execution_count": 1,
     "metadata": {},
     "output_type": "execute_result"
    }
   ],
   "source": [
    "pwd"
   ]
  },
  {
   "cell_type": "code",
   "execution_count": 2,
   "metadata": {},
   "outputs": [
    {
     "name": "stdout",
     "output_type": "stream",
     "text": [
      "LICENSE    export_model.py  model_params.json  test_notebook.ipynb\r\n",
      "README.md  \u001b[0m\u001b[01;34mhlp\u001b[0m/             \u001b[01;34msrc\u001b[0m/               train.py\r\n"
     ]
    }
   ],
   "source": [
    "ls"
   ]
  },
  {
   "cell_type": "code",
   "execution_count": 3,
   "metadata": {},
   "outputs": [],
   "source": [
    "import argparse\n",
    "import os\n",
    "import csv\n",
    "import numpy as np\n",
    "try:\n",
    "    import better_exceptions\n",
    "except ImportError:\n",
    "    pass\n",
    "from tqdm import trange\n",
    "import tensorflow as tf\n",
    "from src.model import crnn_fn\n",
    "from src.data_handler import data_loader\n",
    "from src.data_handler import preprocess_image_for_prediction\n",
    "\n",
    "from src.config import Params, Alphabet, import_params_from_json"
   ]
  },
  {
   "cell_type": "code",
   "execution_count": 13,
   "metadata": {},
   "outputs": [
    {
     "name": "stdout",
     "output_type": "stream",
     "text": [
      "Importing parameters from model_params.json\n",
      "512\n"
     ]
    }
   ],
   "source": [
    "dict_params = import_params_from_json(json_filename='model_params.json')\n",
    "\n",
    "#print(dict_params)\n",
    "\n",
    "parameters = Params(**dict_params)\n",
    "\n",
    "print(parameters)"
   ]
  },
  {
   "cell_type": "code",
   "execution_count": 15,
   "metadata": {},
   "outputs": [
    {
     "name": "stdout",
     "output_type": "stream",
     "text": [
      "{'Params': <src.config.Params object at 0x7f87a3cd02e8>}\n"
     ]
    }
   ],
   "source": [
    "model_params = {\n",
    "        'Params': parameters,\n",
    "    }\n"
   ]
  },
  {
   "cell_type": "code",
   "execution_count": null,
   "metadata": {},
   "outputs": [],
   "source": []
  }
 ],
 "metadata": {
  "kernelspec": {
   "display_name": "Python 3",
   "language": "python",
   "name": "python3"
  },
  "language_info": {
   "codemirror_mode": {
    "name": "ipython",
    "version": 3
   },
   "file_extension": ".py",
   "mimetype": "text/x-python",
   "name": "python",
   "nbconvert_exporter": "python",
   "pygments_lexer": "ipython3",
   "version": "3.6.3"
  }
 },
 "nbformat": 4,
 "nbformat_minor": 2
}
